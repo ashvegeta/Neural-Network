{
 "cells": [
  {
   "cell_type": "code",
   "execution_count": 1,
   "metadata": {},
   "outputs": [],
   "source": [
    "import numpy as np\n",
    "from sklearn.datasets import load_digits\n",
    "import matplotlib.pyplot as plt\n",
    "import seaborn as sns\n",
    "import time"
   ]
  },
  {
   "cell_type": "code",
   "execution_count": 2,
   "metadata": {},
   "outputs": [],
   "source": [
    "class WeightsInitialization:\n",
    "    def __init__(self, L_in, L_out):\n",
    "        self.L_in = L_in\n",
    "        self.L_out = L_out\n",
    "        self.weight = None\n",
    "\n",
    "    def InitializeLayer(self):\n",
    "        L = np.random.rand(self.L_out, self.L_in + 1)\n",
    "        self.weight = L"
   ]
  },
  {
   "cell_type": "code",
   "execution_count": 3,
   "metadata": {},
   "outputs": [],
   "source": [
    "class Network:\n",
    "    def __init__(self,layers):\n",
    "        self.w=[]\n",
    "        self.ai=[]\n",
    "        self.cost=[]\n",
    "        self.layers=layers\n",
    "        for i in range(len(self.layers)-1):\n",
    "            wi=WeightsInitialization(self.layers[i],self.layers[i+1])\n",
    "            self.w.append(wi)\n",
    "            self.w[i].InitializeLayer()\n",
    "    \n",
    "    def sigmoid(self,z):\n",
    "        return 1/(1+np.exp(-z))\n",
    "\n",
    "    def d_sigmoid(self,z):\n",
    "        return self.sigmoid(z)*(1-self.sigmoid(z))\n",
    "    \n",
    "    def ForwardProp(self,w,x):\n",
    "        self.ai=[]\n",
    "        self.ai.append(x)\n",
    "        input=x\n",
    "        for i in range(len(self.layers)-1):\n",
    "            b=self.w[i].weight[:,0].reshape(self.w[i].weight[:,0].shape[0],1)\n",
    "            hyp=self.sigmoid(np.dot(self.w[i].weight[:,1:],input.T)+b).T\n",
    "            input=hyp\n",
    "            self.ai.append(hyp)\n",
    "        \n",
    "        return hyp\n",
    "    \n",
    "    def BackProp(self,h,y,l_rate):\n",
    "        error = h.T - y\n",
    "        for i in range(len(self.layers)-2,-1,-1):\n",
    "            delta = error*self.d_sigmoid(self.ai[i+1]).T\n",
    "    \n",
    "            w_update = np.dot(delta,self.ai[i])\n",
    "            b_update = delta.sum()\n",
    "            \n",
    "            self.w[i].weight[:,1:]-=(l_rate/len(y.T))*w_update\n",
    "            self.w[i].weight[:,0]-=(l_rate/len(y.T))*b_update\n",
    "            \n",
    "            error = np.dot(self.w[i].weight[:, 1:].T, delta)\n",
    "            \n",
    "    \n",
    "    def costFunc(self,hyp,y,m):\n",
    "        return np.sum(np.subtract(hyp, y) ** 2) / m\n",
    "    \n",
    "    \n",
    "    def l_curves(self,iters,l_rate):\n",
    "        sns.set()\n",
    "        plt.figure(dpi=100,figsize=(6,4))\n",
    "        iters = [i * 200 for i in range(iters)]\n",
    "        plt.plot(iters, self.cost,color=\"red\",label=\"learning rate=\"+str(l_rate))\n",
    "        plt.xlabel(\"iterations\")\n",
    "        plt.ylabel(\"cost\")\n",
    "        plt.title(\"learning curve\")\n",
    "        plt.legend()\n",
    "        plt.show()\n",
    "    \n",
    "    def Train(self,x,y,iters,l_rate):\n",
    "        for i in range(iters+1):\n",
    "            h = self.ForwardProp(self.w,x)\n",
    "            self.BackProp(h,y.T,l_rate)\n",
    "            \n",
    "            if i % 200 == 0:\n",
    "                cost=self.costFunc(h, y, len(x))\n",
    "                self.cost.append(cost)\n",
    "        \n",
    "    \n",
    "    def predict(self, x):\n",
    "        h = self.ForwardProp(self.w,x) \n",
    "        return np.argmax(h,axis=1)\n",
    "    \n",
    "    def accuracy(self,x,y):\n",
    "        y_pred = self.predict(x)\n",
    "        return (((y_pred == y).astype(int)).mean())*100"
   ]
  },
  {
   "cell_type": "code",
   "execution_count": 4,
   "metadata": {},
   "outputs": [],
   "source": [
    "def Transform(y):\n",
    "    for i in range(len(y)):\n",
    "        y1=np.zeros(10)\n",
    "        y1[y[i]]=1\n",
    "        y[i]=y1\n",
    "        \n",
    "    return y      "
   ]
  },
  {
   "cell_type": "code",
   "execution_count": 7,
   "metadata": {},
   "outputs": [
    {
     "name": "stdout",
     "output_type": "stream",
     "text": [
      "\n",
      "Training...\n",
      "\n",
      "training accuracy: 94.853 %\n",
      "\n",
      "prediction: [1, 4, 2, 9, 5, 0, 4, 3, 8, 3, 8, 6, 9, 5, 1, 0, 3, 9, 4, 4, 9, 5, 1, 9, 7, 5, 1, 9, 7, 2, 8, 4, 6, 9]\n",
      "\n",
      "real: [1, 4, 2, 9, 5, 0, 4, 3, 8, 3, 6, 6, 9, 5, 1, 0, 3, 9, 4, 4, 9, 5, 1, 9, 2, 5, 1, 9, 7, 2, 8, 5, 6, 9]\n",
      "\n",
      "test accuracy: 91.176 %\n",
      "\n",
      "time taken to train : 259.35 ms\n"
     ]
    },
    {
     "data": {
      "image/png": "[encoded data removed]",
      "text/plain": [
       "<Figure size 600x400 with 1 Axes>"
      ]
     },
     "metadata": {},
     "output_type": "display_data"
    }
   ],
   "source": [
    "from sklearn.datasets import load_digits\n",
    "from sklearn.model_selection import train_test_split\n",
    "\n",
    "digits = load_digits()\n",
    "\n",
    "x=np.array([digits.data[i] for i in range(170)])\n",
    "y=np.array(Transform([digits.target[i] for i in range(170)]))\n",
    "\n",
    "\n",
    "X_train,X_test,y_train,y_test=train_test_split(x,y,test_size=0.2)\n",
    "\n",
    "\n",
    "nn=Network([64,32,10])\n",
    "learning_rate=0.2\n",
    "\n",
    "print(\"\\nTraining...\")\n",
    "\n",
    "st=time.time()\n",
    "nn.Train(X_train,y_train,iters=4000,l_rate=learning_rate)  \n",
    "et=time.time()\n",
    "    \n",
    "print(\"\\ntraining accuracy: %0.3f\" % nn.accuracy(X_train, np.argmax(y_train,axis=1)), \"%\")\n",
    "\n",
    "pred = nn.predict(X_test)\n",
    "\n",
    "print(\"\\nprediction:\",list(pred)) \n",
    "\n",
    "print(\"\\nreal:\",list(np.argmax(y_test,axis=1)))\n",
    "\n",
    "print(\"\\ntest accuracy: %0.3f\" % nn.accuracy(X_test, np.argmax(y_test,axis=1)), \"%\")\n",
    "\n",
    "print(\"\\ntime taken to train : %0.2f\"%((et-st)*100),\"ms\")\n",
    "\n",
    "nn.l_curves(iters=21,l_rate=learning_rate)"
   ]
  },
  {
   "cell_type": "code",
   "execution_count": null,
   "metadata": {},
   "outputs": [],
   "source": []
  }
 ],
 "metadata": {
  "kernelspec": {
   "display_name": "Python 3",
   "language": "python",
   "name": "python3"
  },
  "language_info": {
   "codemirror_mode": {
    "name": "ipython",
    "version": 3
   },
   "file_extension": ".py",
   "mimetype": "text/x-python",
   "name": "python",
   "nbconvert_exporter": "python",
   "pygments_lexer": "ipython3",
   "version": "3.7.1"
  }
 },
 "nbformat": 4,
 "nbformat_minor": 2
}
