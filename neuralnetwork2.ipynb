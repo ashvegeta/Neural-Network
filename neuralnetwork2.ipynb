{
 "cells": [
  {
   "cell_type": "code",
   "execution_count": 1,
   "metadata": {},
   "outputs": [],
   "source": [
    "import numpy as np\n",
    "from sklearn.datasets import load_digits\n",
    "import matplotlib.pyplot as plt\n",
    "import seaborn as sns\n",
    "import time"
   ]
  },
  {
   "cell_type": "code",
   "execution_count": 2,
   "metadata": {},
   "outputs": [],
   "source": [
    "class WeightsInitialization:\n",
    "    def __init__(self, L_in, L_out):\n",
    "        self.L_in = L_in\n",
    "        self.L_out = L_out\n",
    "        self.weight = None\n",
    "\n",
    "    def InitializeLayer(self):\n",
    "        L = np.random.rand(self.L_out, self.L_in + 1) * 2 - 1\n",
    "        self.weight = L"
   ]
  },
  {
   "cell_type": "code",
   "execution_count": 3,
   "metadata": {},
   "outputs": [],
   "source": [
    "class NeuralNet:\n",
    "    def __init__(self, hidden_layers):\n",
    "        self.w = []\n",
    "        self.hidden_layers = hidden_layers\n",
    "        self.activation = []\n",
    "        self.ai = None\n",
    "        self.delta = None\n",
    "        self.error = None\n",
    "        self.cost = []\n",
    "\n",
    "    def Weights(self):\n",
    "        for i in range(0, self.hidden_layers + 1):\n",
    "            print(\"\nenter weights' details of layers\", i + 1, i + 2)\n",
    "            lin, lout = input(\"enter no of inputs and outputs:\").split()\n",
    "            self.w.append(WeightsInitialization(int(lin), int(lout)))\n",
    "\n",
    "        for i in range(0, self.hidden_layers + 1):\n",
    "            self.w[i].InitializeLayer()\n",
    "\n",
    "    @staticmethod\n",
    "    def SigmoidActivation(z):  # use the sigmoid activation for only classification problem\n",
    "        return 1 / (1 + np.exp(-z))\n",
    "\n",
    "    def dSigmoid(self, z):  # use sigmoid derivative for classification problem only\n",
    "        return self.SigmoidActivation(z) * (1 - self.SigmoidActivation(z))\n",
    "\n",
    "    def ForwardProp(self, X):\n",
    "        self.activation = []\n",
    "        self.activation.append(X)\n",
    "        total_layers = self.hidden_layers + 2\n",
    "        self.ai = X\n",
    "        for i in range(0, total_layers - 1):\n",
    "            input = self.ai\n",
    "            hyp = self.SigmoidActivation(np.dot(self.w[i].weight[:, 1:], input) + self.w[i].weight[:, 0])\n",
    "            self.activation.append(hyp)\n",
    "            self.ai = hyp\n",
    "        return self.ai\n",
    "\n",
    "    def BackProp(self, y, l_rate, m):\n",
    "        y1 = np.zeros(10)\n",
    "        y1[y] = 1\n",
    "        y = y1\n",
    "        self.error = y - self.ai\n",
    "        for i in range(self.hidden_layers, -1, -1):\n",
    "            # finding delta\n",
    "            self.delta = self.error * self.dSigmoid(self.activation[i + 1])\n",
    "\n",
    "            # finding the weight gradient wrt error and updating it\n",
    "            w_update = self.activation[i] * self.delta[:, np.newaxis]\n",
    "            b_update = self.delta\n",
    "            self.w[i].weight[:, 1:] += (1 / m) * l_rate * w_update\n",
    "            self.w[i].weight[:, 0] += (1 / m) * l_rate * b_update\n",
    "\n",
    "            # back-propagating error for the previous layer\n",
    "            self.error = np.dot(self.w[i].weight[:, 1:].T, self.delta)\n",
    "\n",
    "    def costFunc(self, hyp, y, m):\n",
    "        return np.sum(np.subtract(hyp, y) ** 2) / m\n",
    "\n",
    "    def l_curves(self, iters):\n",
    "        sns.set()\n",
    "        plt.figure(dpi=100,figsize=(6,4))\n",
    "        iters = [i * 200 for i in range(iters)]\n",
    "        plt.plot(iters, self.cost,color=\"red\",label=\"learning rate=0.008\")\n",
    "        plt.xlabel(\"iterations\")\n",
    "        plt.ylabel(\"cost\")\n",
    "        plt.title(\"learning curve\")\n",
    "        plt.legend()\n",
    "        plt.show()\n",
    "\n",
    "    def Train(self, X, y, iters, l_rate):\n",
    "        for i in range(0, iters + 1):\n",
    "            hyp = []\n",
    "            for j in range(0, len(X)):\n",
    "                h = self.ForwardProp(X[j])\n",
    "                self.BackProp(y[j], l_rate, len(X))\n",
    "                hyp.append(h.argmax())\n",
    "            if i % 200 == 0:\n",
    "                cost=self.costFunc(hyp, y, len(X))\n",
    "                self.cost.append(cost)\n",
    "        return hyp\n",
    "\n",
    "    def predict(self, X):\n",
    "        pred=[]\n",
    "        for i in X:\n",
    "            p = self.ForwardProp(i)\n",
    "            pred.append(p.argmax())\n",
    "        return pred\n",
    "\n",
    "    def accuracy(self,X,y):\n",
    "        y_pred = np.array(self.predict(X))\n",
    "        return (((y_pred == y).astype(int)).mean())*100"
   ]
  },
  {
   "cell_type": "code",
   "execution_count": 6,
   "metadata": {},
   "outputs": [
    {
     "name": "stdout",
     "output_type": "stream",
     "text": [
      "enter the no of hidden layers:  1\n"
     ]
    },
    {
     "name": "stdout",
     "output_type": "stream",
     "text": [
      "enter weights' details of layers 1 2\n"
     ]
    },
    {
     "name": "stdout",
     "output_type": "stream",
     "text": [
      "enter no of inputs and outputs: 64 32\n"
     ]
    },
    {
     "name": "stdout",
     "output_type": "stream",
     "text": [
      "enter weights' details of layers 2 3\n"
     ]
    },
    {
     "name": "stdout",
     "output_type": "stream",
     "text": [
      "enter no of inputs and outputs: 32 10\n"
     ]
    },
    {
     "name": "stdout",
     "output_type": "stream",
     "text": [
      "\n",
      "training...\n",
      "\n",
      "training accuracy: 93.382 %\n",
      "\n",
      "prediction: [6, 1, 8, 3, 7, 4, 7, 0, 0, 1, 6, 1, 4, 9, 7, 8, 6, 9, 4, 6, 8, 5, 8, 5, 0, 3, 9, 1, 1, 4, 9, 7, 2, 6]\n",
      "\n",
      "real: [6, 1, 2, 3, 7, 4, 4, 0, 0, 1, 6, 1, 4, 9, 7, 8, 6, 9, 4, 6, 8, 5, 8, 0, 9, 3, 5, 1, 2, 4, 9, 7, 2, 6]\n",
      "\n",
      "test accuracy: 82.353 %\n",
      "\n",
      "time taken to train : 6305.83 ms\n"
     ]
    },
    {
     "data": {
      "image/png": "[encoded data removed]",
      "text/plain": [
       "<Figure size 600x400 with 1 Axes>"
      ]
     },
     "metadata": {},
     "output_type": "display_data"
    }
   ],
   "source": [
    "from sklearn.model_selection import train_test_split\n",
    "\n",
    "hidden_layers = int(input(\"enter the no of hidden layers: \"))\n",
    "\n",
    "nn = NeuralNet(hidden_layers)\n",
    "\n",
    "nn.Weights()  # random initialization of weights\n",
    "\n",
    "\n",
    "digits = load_digits()\n",
    "\n",
    "X = [digits.data[i] for i in range(170)]\n",
    "y = [digits.target[i] for i in range(170)]\n",
    "\n",
    "\n",
    "X_train,X_test,y_train,y_test=train_test_split(X,y,test_size=0.2)\n",
    "\n",
    "\n",
    "print(\"\\ntraining...\")\n",
    "\n",
    "st=time.time()\n",
    "hyp = nn.Train(X_train, y_train, iters=4000, l_rate=0.008)\n",
    "et=time.time()\n",
    "\n",
    "#print(\"\\nfinal hypothesis:\", np.array(hyp))\n",
    "#print(\"h:\", h)\n",
    "#print(\"\\nexpected output:\", y)\n",
    "\n",
    "print(\"\\ntraining accuracy: %0.3f\" % nn.accuracy(X_train, y_train), \"%\")\n",
    "\n",
    "\n",
    "print(\"\\nprediction:\", nn.predict(X_test))\n",
    "\n",
    "print(\"\\nreal:\", y_test)\n",
    "\n",
    "print(\"\\ntest accuracy: %0.3f\" %nn.accuracy(X_test,y_test),\"%\")\n",
    "\n",
    "print(\"\\ntime taken to train : %0.2f\"%((et-st)*100),\"ms\")\n",
    "\n",
    "nn.l_curves(iters=21)\n"
   ]
  },
  {
   "cell_type": "code",
   "execution_count": null,
   "metadata": {},
   "outputs": [],
   "source": []
  }
 ],
 "metadata": {
  "kernelspec": {
   "display_name": "Python 3",
   "language": "python",
   "name": "python3"
  },
  "language_info": {
   "codemirror_mode": {
    "name": "ipython",
    "version": 3
   },
   "file_extension": ".py",
   "mimetype": "text/x-python",
   "name": "python",
   "nbconvert_exporter": "python",
   "pygments_lexer": "ipython3",
   "version": "3.7.1"
  }
 },
 "nbformat": 4,
 "nbformat_minor": 2
}
